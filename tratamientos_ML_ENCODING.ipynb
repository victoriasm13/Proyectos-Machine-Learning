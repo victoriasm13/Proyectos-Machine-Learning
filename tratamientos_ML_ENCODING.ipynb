{
 "cells": [
  {
   "cell_type": "markdown",
   "metadata": {},
   "source": [
    "En el pair programming de hoy usaremos el set de datos que guardastéis en el pair programming de normalización y estandarización."
   ]
  },
  {
   "cell_type": "code",
   "execution_count": 2,
   "metadata": {},
   "outputs": [],
   "source": [
    "import pandas as pd\n",
    "import numpy as np\n",
    "import matplotlib.pyplot as plt\n",
    "import seaborn as sns\n",
    "pd.options.display.max_columns = None\n",
    "\n",
    "import statsmodels.api as sm\n",
    "from statsmodels.formula.api import ols\n",
    "\n",
    "from sklearn.experimental import enable_iterative_imputer\n",
    "from sklearn.impute import IterativeImputer  \n",
    "import pandas as pd\n",
    "import numpy as np\n",
    "import matplotlib.pyplot as plt\n",
    "import seaborn as sns\n",
    "pd.options.display.max_columns = None\n",
    "from scipy import stats\n",
    "\n",
    "from sklearn.experimental import enable_iterative_imputer\n",
    "from sklearn.impute import IterativeImputer"
   ]
  },
  {
   "cell_type": "code",
   "execution_count": 3,
   "metadata": {},
   "outputs": [
    {
     "data": {
      "text/html": [
       "<div>\n",
       "<style scoped>\n",
       "    .dataframe tbody tr th:only-of-type {\n",
       "        vertical-align: middle;\n",
       "    }\n",
       "\n",
       "    .dataframe tbody tr th {\n",
       "        vertical-align: top;\n",
       "    }\n",
       "\n",
       "    .dataframe thead th {\n",
       "        text-align: right;\n",
       "    }\n",
       "</style>\n",
       "<table border=\"1\" class=\"dataframe\">\n",
       "  <thead>\n",
       "    <tr style=\"text-align: right;\">\n",
       "      <th></th>\n",
       "      <th>Released_Year</th>\n",
       "      <th>Certificate</th>\n",
       "      <th>Runtime</th>\n",
       "      <th>Genre</th>\n",
       "      <th>IMDB_Rating</th>\n",
       "      <th>Meta_score</th>\n",
       "      <th>No_of_Votes</th>\n",
       "      <th>Gross</th>\n",
       "      <th>Rating_BOX</th>\n",
       "      <th>Ryr_Sklstd</th>\n",
       "      <th>Rnt_Sklstd</th>\n",
       "      <th>Meta_Sklstd</th>\n",
       "      <th>Votes_Sklstd</th>\n",
       "      <th>Gross_Sklstd</th>\n",
       "    </tr>\n",
       "  </thead>\n",
       "  <tbody>\n",
       "    <tr>\n",
       "      <th>0</th>\n",
       "      <td>1994.0</td>\n",
       "      <td>A</td>\n",
       "      <td>142</td>\n",
       "      <td>Drama</td>\n",
       "      <td>9.3</td>\n",
       "      <td>80.0</td>\n",
       "      <td>2343110.0</td>\n",
       "      <td>28341469.0</td>\n",
       "      <td>0.100485</td>\n",
       "      <td>-0.151515</td>\n",
       "      <td>0.676471</td>\n",
       "      <td>-0.001712</td>\n",
       "      <td>6.918768</td>\n",
       "      <td>0.131429</td>\n",
       "    </tr>\n",
       "    <tr>\n",
       "      <th>1</th>\n",
       "      <td>1972.0</td>\n",
       "      <td>A</td>\n",
       "      <td>175</td>\n",
       "      <td>Crime</td>\n",
       "      <td>9.2</td>\n",
       "      <td>100.0</td>\n",
       "      <td>1620367.0</td>\n",
       "      <td>134966411.0</td>\n",
       "      <td>0.100485</td>\n",
       "      <td>-0.818182</td>\n",
       "      <td>1.647059</td>\n",
       "      <td>1.426860</td>\n",
       "      <td>4.650520</td>\n",
       "      <td>1.997227</td>\n",
       "    </tr>\n",
       "  </tbody>\n",
       "</table>\n",
       "</div>"
      ],
      "text/plain": [
       "   Released_Year Certificate  Runtime  Genre  IMDB_Rating  Meta_score  \\\n",
       "0         1994.0           A      142  Drama          9.3        80.0   \n",
       "1         1972.0           A      175  Crime          9.2       100.0   \n",
       "\n",
       "   No_of_Votes        Gross  Rating_BOX  Ryr_Sklstd  Rnt_Sklstd  Meta_Sklstd  \\\n",
       "0    2343110.0   28341469.0    0.100485   -0.151515    0.676471    -0.001712   \n",
       "1    1620367.0  134966411.0    0.100485   -0.818182    1.647059     1.426860   \n",
       "\n",
       "   Votes_Sklstd  Gross_Sklstd  \n",
       "0      6.918768      0.131429  \n",
       "1      4.650520      1.997227  "
      ]
     },
     "execution_count": 3,
     "metadata": {},
     "output_type": "execute_result"
    }
   ],
   "source": [
    "df = pd.read_pickle(\"datos/peliculas_limpio.pkl\")\n",
    "df.head(2)"
   ]
  },
  {
   "cell_type": "markdown",
   "metadata": {},
   "source": [
    "Vuestro set de datos debería tener al menos una variable categórica, el objetivo del pair programming de hoy:\n",
    "-Hacer una códificación de la/las variables categóricas que tengáis en vuestro set de datos.\n",
    "-Recordad que lo primero que deberéis hacer es decidir su vuestras variables tienen o no orden, para que en función de esto uséis una aproximación u otra.\n",
    "-Guardad el dataframe, donde deberíais tener las variables estadandarizas, normalizadas y codificadas en un csv para usarlo en el próximo pairprogramming"
   ]
  },
  {
   "cell_type": "code",
   "execution_count": 4,
   "metadata": {},
   "outputs": [],
   "source": [
    "from sklearn.preprocessing import LabelEncoder"
   ]
  },
  {
   "cell_type": "markdown",
   "metadata": {},
   "source": [
    "<p> Vamos a transformar el certificado en un valor numérico ya que la columna certificado es categórica ordinal y necesitamos convertirla en numérica para el modelo de predicción.</p>"
   ]
  },
  {
   "cell_type": "code",
   "execution_count": 5,
   "metadata": {},
   "outputs": [],
   "source": [
    "# Vamos a darle un valor númerico a la variable categórica \"Certificate\"\n",
    "le = LabelEncoder()\n",
    "df['Certificate_le']=le.fit_transform(df['Certificate'])\n",
    "#Deberíamos haber utilizado el one-hot encoder o el get-dummies si no tenía orden y haber comprobado gráficamente el orden de las categorías"
   ]
  },
  {
   "cell_type": "code",
   "execution_count": 6,
   "metadata": {},
   "outputs": [
    {
     "data": {
      "text/html": [
       "<div>\n",
       "<style scoped>\n",
       "    .dataframe tbody tr th:only-of-type {\n",
       "        vertical-align: middle;\n",
       "    }\n",
       "\n",
       "    .dataframe tbody tr th {\n",
       "        vertical-align: top;\n",
       "    }\n",
       "\n",
       "    .dataframe thead th {\n",
       "        text-align: right;\n",
       "    }\n",
       "</style>\n",
       "<table border=\"1\" class=\"dataframe\">\n",
       "  <thead>\n",
       "    <tr style=\"text-align: right;\">\n",
       "      <th></th>\n",
       "      <th>Released_Year</th>\n",
       "      <th>Certificate</th>\n",
       "      <th>Runtime</th>\n",
       "      <th>Genre</th>\n",
       "      <th>IMDB_Rating</th>\n",
       "      <th>Meta_score</th>\n",
       "      <th>No_of_Votes</th>\n",
       "      <th>Gross</th>\n",
       "      <th>Rating_BOX</th>\n",
       "      <th>Ryr_Sklstd</th>\n",
       "      <th>Rnt_Sklstd</th>\n",
       "      <th>Meta_Sklstd</th>\n",
       "      <th>Votes_Sklstd</th>\n",
       "      <th>Gross_Sklstd</th>\n",
       "      <th>Certificate_le</th>\n",
       "    </tr>\n",
       "  </thead>\n",
       "  <tbody>\n",
       "    <tr>\n",
       "      <th>0</th>\n",
       "      <td>1994.0</td>\n",
       "      <td>A</td>\n",
       "      <td>142</td>\n",
       "      <td>Drama</td>\n",
       "      <td>9.3</td>\n",
       "      <td>80.0</td>\n",
       "      <td>2343110.0</td>\n",
       "      <td>28341469.0</td>\n",
       "      <td>0.100485</td>\n",
       "      <td>-0.151515</td>\n",
       "      <td>0.676471</td>\n",
       "      <td>-0.001712</td>\n",
       "      <td>6.918768</td>\n",
       "      <td>0.131429</td>\n",
       "      <td>1</td>\n",
       "    </tr>\n",
       "    <tr>\n",
       "      <th>1</th>\n",
       "      <td>1972.0</td>\n",
       "      <td>A</td>\n",
       "      <td>175</td>\n",
       "      <td>Crime</td>\n",
       "      <td>9.2</td>\n",
       "      <td>100.0</td>\n",
       "      <td>1620367.0</td>\n",
       "      <td>134966411.0</td>\n",
       "      <td>0.100485</td>\n",
       "      <td>-0.818182</td>\n",
       "      <td>1.647059</td>\n",
       "      <td>1.426860</td>\n",
       "      <td>4.650520</td>\n",
       "      <td>1.997227</td>\n",
       "      <td>1</td>\n",
       "    </tr>\n",
       "    <tr>\n",
       "      <th>2</th>\n",
       "      <td>2008.0</td>\n",
       "      <td>UA</td>\n",
       "      <td>152</td>\n",
       "      <td>Action</td>\n",
       "      <td>9.0</td>\n",
       "      <td>84.0</td>\n",
       "      <td>2303232.0</td>\n",
       "      <td>534858444.0</td>\n",
       "      <td>0.100485</td>\n",
       "      <td>0.272727</td>\n",
       "      <td>0.970588</td>\n",
       "      <td>0.284003</td>\n",
       "      <td>6.793615</td>\n",
       "      <td>8.994820</td>\n",
       "      <td>14</td>\n",
       "    </tr>\n",
       "    <tr>\n",
       "      <th>3</th>\n",
       "      <td>1974.0</td>\n",
       "      <td>A</td>\n",
       "      <td>202</td>\n",
       "      <td>Crime</td>\n",
       "      <td>9.0</td>\n",
       "      <td>90.0</td>\n",
       "      <td>1129952.0</td>\n",
       "      <td>57300000.0</td>\n",
       "      <td>0.100485</td>\n",
       "      <td>-0.757576</td>\n",
       "      <td>2.441176</td>\n",
       "      <td>0.712574</td>\n",
       "      <td>3.111408</td>\n",
       "      <td>0.638166</td>\n",
       "      <td>1</td>\n",
       "    </tr>\n",
       "    <tr>\n",
       "      <th>4</th>\n",
       "      <td>1957.0</td>\n",
       "      <td>U</td>\n",
       "      <td>96</td>\n",
       "      <td>Crime</td>\n",
       "      <td>9.0</td>\n",
       "      <td>96.0</td>\n",
       "      <td>689845.0</td>\n",
       "      <td>4360000.0</td>\n",
       "      <td>0.100485</td>\n",
       "      <td>-1.272727</td>\n",
       "      <td>-0.676471</td>\n",
       "      <td>1.141145</td>\n",
       "      <td>1.730182</td>\n",
       "      <td>-0.288216</td>\n",
       "      <td>12</td>\n",
       "    </tr>\n",
       "  </tbody>\n",
       "</table>\n",
       "</div>"
      ],
      "text/plain": [
       "   Released_Year Certificate  Runtime   Genre  IMDB_Rating  Meta_score  \\\n",
       "0         1994.0           A      142   Drama          9.3        80.0   \n",
       "1         1972.0           A      175   Crime          9.2       100.0   \n",
       "2         2008.0          UA      152  Action          9.0        84.0   \n",
       "3         1974.0           A      202   Crime          9.0        90.0   \n",
       "4         1957.0           U       96   Crime          9.0        96.0   \n",
       "\n",
       "   No_of_Votes        Gross  Rating_BOX  Ryr_Sklstd  Rnt_Sklstd  Meta_Sklstd  \\\n",
       "0    2343110.0   28341469.0    0.100485   -0.151515    0.676471    -0.001712   \n",
       "1    1620367.0  134966411.0    0.100485   -0.818182    1.647059     1.426860   \n",
       "2    2303232.0  534858444.0    0.100485    0.272727    0.970588     0.284003   \n",
       "3    1129952.0   57300000.0    0.100485   -0.757576    2.441176     0.712574   \n",
       "4     689845.0    4360000.0    0.100485   -1.272727   -0.676471     1.141145   \n",
       "\n",
       "   Votes_Sklstd  Gross_Sklstd  Certificate_le  \n",
       "0      6.918768      0.131429               1  \n",
       "1      4.650520      1.997227               1  \n",
       "2      6.793615      8.994820              14  \n",
       "3      3.111408      0.638166               1  \n",
       "4      1.730182     -0.288216              12  "
      ]
     },
     "execution_count": 6,
     "metadata": {},
     "output_type": "execute_result"
    }
   ],
   "source": [
    "df.head(5)"
   ]
  },
  {
   "cell_type": "markdown",
   "metadata": {},
   "source": [
    "<p> Vamos a hacer un encoding de la columna género. Como no estamos seguros de si tiene orden o no sacamos los valores únicos y realizamos un boxplot para comprobar visualmente la posición de las medianas y ver si tiene orden para crear categorías numéricas.</p>"
   ]
  },
  {
   "cell_type": "code",
   "execution_count": 7,
   "metadata": {},
   "outputs": [
    {
     "data": {
      "text/plain": [
       "array(['Drama', 'Crime', 'Action', 'Biography', 'Western', 'Comedy',\n",
       "       'Adventure', 'Animation', 'Horror', 'Mystery', 'Film-Noir',\n",
       "       'Fantasy', 'Family', 'Thriller'], dtype=object)"
      ]
     },
     "execution_count": 7,
     "metadata": {},
     "output_type": "execute_result"
    }
   ],
   "source": [
    "df['Genre'].unique()"
   ]
  },
  {
   "cell_type": "code",
   "execution_count": 8,
   "metadata": {},
   "outputs": [
    {
     "data": {
      "text/plain": [
       "<AxesSubplot:xlabel='Genre', ylabel='IMDB_Rating'>"
      ]
     },
     "execution_count": 8,
     "metadata": {},
     "output_type": "execute_result"
    },
    {
     "data": {
      "image/png": "[encoded data removed]",
      "text/plain": [
       "<Figure size 1440x1080 with 1 Axes>"
      ]
     },
     "metadata": {
      "needs_background": "light"
     },
     "output_type": "display_data"
    }
   ],
   "source": [
    "plt.figure(figsize=(20,15))\n",
    "sns.boxplot(x='Genre', y = 'IMDB_Rating', data =  df)"
   ]
  },
  {
   "cell_type": "markdown",
   "metadata": {},
   "source": [
    "<p> Como podemos observar si que existe un cierto orden dentro de la categoría de géneros, de modo que vamos a realizar un encoding usando un map con un diccionario agrupando los géneros que tengan una mediana similar. De esta forma la columna Genre pasa a ser de categórica a numérica. </p>"
   ]
  },
  {
   "cell_type": "code",
   "execution_count": 16,
   "metadata": {},
   "outputs": [],
   "source": [
    "genre = {'Western' : 1, 'Drama' : 2 , 'Crime' : 2, 'Mystery':2,'Film-Noir':2,'Fantasy' : 2, 'Action' :3 ,'Biography' :3 , 'Comedy': 3, 'Adventure': 3,'Animation' : 3,\n",
    "          'Horror': 4, 'Family':4, 'Thriller': 4}\n",
    "#Debemos cambiar el orden de la codificación de géneros"
   ]
  },
  {
   "cell_type": "markdown",
   "metadata": {},
   "source": [
    "<p> USando el diccionario definido hemos realizado un mapeo para crear una nueva columna con los valores numéricos. </p>"
   ]
  },
  {
   "cell_type": "code",
   "execution_count": 17,
   "metadata": {},
   "outputs": [],
   "source": [
    "df['Genre_map'] = df['Genre'].map(genre)"
   ]
  },
  {
   "cell_type": "code",
   "execution_count": 20,
   "metadata": {},
   "outputs": [
    {
     "data": {
      "text/html": [
       "<div>\n",
       "<style scoped>\n",
       "    .dataframe tbody tr th:only-of-type {\n",
       "        vertical-align: middle;\n",
       "    }\n",
       "\n",
       "    .dataframe tbody tr th {\n",
       "        vertical-align: top;\n",
       "    }\n",
       "\n",
       "    .dataframe thead th {\n",
       "        text-align: right;\n",
       "    }\n",
       "</style>\n",
       "<table border=\"1\" class=\"dataframe\">\n",
       "  <thead>\n",
       "    <tr style=\"text-align: right;\">\n",
       "      <th></th>\n",
       "      <th>Released_Year</th>\n",
       "      <th>Certificate</th>\n",
       "      <th>Runtime</th>\n",
       "      <th>Genre</th>\n",
       "      <th>IMDB_Rating</th>\n",
       "      <th>Meta_score</th>\n",
       "      <th>No_of_Votes</th>\n",
       "      <th>Gross</th>\n",
       "      <th>Rating_BOX</th>\n",
       "      <th>Ryr_Sklstd</th>\n",
       "      <th>Rnt_Sklstd</th>\n",
       "      <th>Meta_Sklstd</th>\n",
       "      <th>Votes_Sklstd</th>\n",
       "      <th>Gross_Sklstd</th>\n",
       "      <th>Certificate_le</th>\n",
       "      <th>Genre_map</th>\n",
       "    </tr>\n",
       "  </thead>\n",
       "  <tbody>\n",
       "    <tr>\n",
       "      <th>611</th>\n",
       "      <td>2009.0</td>\n",
       "      <td>R</td>\n",
       "      <td>152</td>\n",
       "      <td>Crime</td>\n",
       "      <td>7.8</td>\n",
       "      <td>76.000000</td>\n",
       "      <td>208994.0</td>\n",
       "      <td>10095170.0</td>\n",
       "      <td>0.100485</td>\n",
       "      <td>0.303030</td>\n",
       "      <td>0.970588</td>\n",
       "      <td>-0.287426</td>\n",
       "      <td>0.221085</td>\n",
       "      <td>-0.187858</td>\n",
       "      <td>8</td>\n",
       "      <td>2</td>\n",
       "    </tr>\n",
       "    <tr>\n",
       "      <th>405</th>\n",
       "      <td>1988.0</td>\n",
       "      <td>UA</td>\n",
       "      <td>124</td>\n",
       "      <td>Animation</td>\n",
       "      <td>8.0</td>\n",
       "      <td>80.380615</td>\n",
       "      <td>164918.0</td>\n",
       "      <td>553171.0</td>\n",
       "      <td>0.100485</td>\n",
       "      <td>-0.333333</td>\n",
       "      <td>0.147059</td>\n",
       "      <td>0.025475</td>\n",
       "      <td>0.082758</td>\n",
       "      <td>-0.354830</td>\n",
       "      <td>14</td>\n",
       "      <td>3</td>\n",
       "    </tr>\n",
       "    <tr>\n",
       "      <th>932</th>\n",
       "      <td>2004.0</td>\n",
       "      <td>UA</td>\n",
       "      <td>103</td>\n",
       "      <td>Horror</td>\n",
       "      <td>7.6</td>\n",
       "      <td>46.000000</td>\n",
       "      <td>379020.0</td>\n",
       "      <td>56000369.0</td>\n",
       "      <td>0.100485</td>\n",
       "      <td>0.151515</td>\n",
       "      <td>-0.470588</td>\n",
       "      <td>-2.430283</td>\n",
       "      <td>0.754693</td>\n",
       "      <td>0.615424</td>\n",
       "      <td>14</td>\n",
       "      <td>4</td>\n",
       "    </tr>\n",
       "    <tr>\n",
       "      <th>788</th>\n",
       "      <td>2001.0</td>\n",
       "      <td>PG-13</td>\n",
       "      <td>132</td>\n",
       "      <td>Drama</td>\n",
       "      <td>7.7</td>\n",
       "      <td>28.000000</td>\n",
       "      <td>142863.0</td>\n",
       "      <td>40311852.0</td>\n",
       "      <td>0.100485</td>\n",
       "      <td>0.060606</td>\n",
       "      <td>0.382353</td>\n",
       "      <td>-3.715997</td>\n",
       "      <td>0.013541</td>\n",
       "      <td>0.340895</td>\n",
       "      <td>6</td>\n",
       "      <td>2</td>\n",
       "    </tr>\n",
       "    <tr>\n",
       "      <th>71</th>\n",
       "      <td>1984.0</td>\n",
       "      <td>A</td>\n",
       "      <td>229</td>\n",
       "      <td>Crime</td>\n",
       "      <td>8.4</td>\n",
       "      <td>86.395256</td>\n",
       "      <td>311365.0</td>\n",
       "      <td>5321508.0</td>\n",
       "      <td>0.100485</td>\n",
       "      <td>-0.454545</td>\n",
       "      <td>3.235294</td>\n",
       "      <td>0.455092</td>\n",
       "      <td>0.542365</td>\n",
       "      <td>-0.271391</td>\n",
       "      <td>1</td>\n",
       "      <td>2</td>\n",
       "    </tr>\n",
       "  </tbody>\n",
       "</table>\n",
       "</div>"
      ],
      "text/plain": [
       "     Released_Year Certificate  Runtime      Genre  IMDB_Rating  Meta_score  \\\n",
       "611         2009.0           R      152      Crime          7.8   76.000000   \n",
       "405         1988.0          UA      124  Animation          8.0   80.380615   \n",
       "932         2004.0          UA      103     Horror          7.6   46.000000   \n",
       "788         2001.0       PG-13      132      Drama          7.7   28.000000   \n",
       "71          1984.0           A      229      Crime          8.4   86.395256   \n",
       "\n",
       "     No_of_Votes       Gross  Rating_BOX  Ryr_Sklstd  Rnt_Sklstd  Meta_Sklstd  \\\n",
       "611     208994.0  10095170.0    0.100485    0.303030    0.970588    -0.287426   \n",
       "405     164918.0    553171.0    0.100485   -0.333333    0.147059     0.025475   \n",
       "932     379020.0  56000369.0    0.100485    0.151515   -0.470588    -2.430283   \n",
       "788     142863.0  40311852.0    0.100485    0.060606    0.382353    -3.715997   \n",
       "71      311365.0   5321508.0    0.100485   -0.454545    3.235294     0.455092   \n",
       "\n",
       "     Votes_Sklstd  Gross_Sklstd  Certificate_le  Genre_map  \n",
       "611      0.221085     -0.187858               8          2  \n",
       "405      0.082758     -0.354830              14          3  \n",
       "932      0.754693      0.615424              14          4  \n",
       "788      0.013541      0.340895               6          2  \n",
       "71       0.542365     -0.271391               1          2  "
      ]
     },
     "execution_count": 20,
     "metadata": {},
     "output_type": "execute_result"
    }
   ],
   "source": [
    "df.sample(5)"
   ]
  },
  {
   "cell_type": "code",
   "execution_count": 21,
   "metadata": {},
   "outputs": [
    {
     "data": {
      "text/plain": [
       "Released_Year     0\n",
       "Certificate       0\n",
       "Runtime           0\n",
       "Genre             0\n",
       "IMDB_Rating       0\n",
       "Meta_score        0\n",
       "No_of_Votes       0\n",
       "Gross             0\n",
       "Rating_BOX        0\n",
       "Ryr_Sklstd        0\n",
       "Rnt_Sklstd        0\n",
       "Meta_Sklstd       0\n",
       "Votes_Sklstd      0\n",
       "Gross_Sklstd      0\n",
       "Certificate_le    0\n",
       "Genre_map         0\n",
       "dtype: int64"
      ]
     },
     "execution_count": 21,
     "metadata": {},
     "output_type": "execute_result"
    }
   ],
   "source": [
    "df.isna().sum()"
   ]
  },
  {
   "cell_type": "code",
   "execution_count": 22,
   "metadata": {},
   "outputs": [],
   "source": [
    "df.to_pickle(\"datos/peliculas_limpio.pkl\")"
   ]
  }
 ],
 "metadata": {
  "kernelspec": {
   "display_name": "base",
   "language": "python",
   "name": "python3"
  },
  "language_info": {
   "codemirror_mode": {
    "name": "ipython",
    "version": 3
   },
   "file_extension": ".py",
   "mimetype": "text/x-python",
   "name": "python",
   "nbconvert_exporter": "python",
   "pygments_lexer": "ipython3",
   "version": "3.9.18"
  },
  "orig_nbformat": 4
 },
 "nbformat": 4,
 "nbformat_minor": 2
}
